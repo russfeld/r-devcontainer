{
 "cells": [
  {
   "cell_type": "markdown",
   "metadata": {},
   "source": [
    "# RPE Factor Analysis\n",
    "\n",
    "Following procedure in R found in https://lhbikos.github.io/ReC_Psychometrics/PAF.html"
   ]
  },
  {
   "cell_type": "markdown",
   "metadata": {},
   "source": [
    "## Install Packages"
   ]
  },
  {
   "cell_type": "code",
   "execution_count": 7,
   "metadata": {
    "vscode": {
     "languageId": "r"
    }
   },
   "outputs": [],
   "source": [
    "if(!require(psych)){install.packages('psych')}\n",
    "if(!require(tidyverse)){install.packages('tidyverse')}\n",
    "if(!require(MASS)){install.packages('MASS')}\n",
    "if(!require(sjstats)){install.packages('sjstats')}\n",
    "if(!require(apaTables)){install.packages('apaTables')}\n",
    "if(!require(qualtRics)){install.packages('qualtRics')}"
   ]
  },
  {
   "cell_type": "markdown",
   "metadata": {},
   "source": [
    "## Load Data\n",
    "\n",
    "Data acquired from Rural Identity Survey sent to schools in the Cyber Pipeline program. Data is stored in a CSV file - each item is a Likert scale from 1 to 5. \n",
    "\n",
    "1 = Strongly Disagree\n",
    "2 = Disagree\n",
    "3 = Neither Agree nor Disagree\n",
    "4 = Agree\n",
    "5 = Strongly Agree\n",
    "\n",
    "All items are positive coded (i.e. 5 is rural, 1 is not)"
   ]
  },
  {
   "cell_type": "code",
   "execution_count": null,
   "metadata": {
    "vscode": {
     "languageId": "r"
    }
   },
   "outputs": [
    {
     "data": {
      "text/html": [
       "'Number of columns: 13'"
      ],
      "text/latex": [
       "'Number of columns: 13'"
      ],
      "text/markdown": [
       "'Number of columns: 13'"
      ],
      "text/plain": [
       "[1] \"Number of columns: 13\""
      ]
     },
     "metadata": {},
     "output_type": "display_data"
    },
    {
     "data": {
      "text/html": [
       "'Number of rows: 106'"
      ],
      "text/latex": [
       "'Number of rows: 106'"
      ],
      "text/markdown": [
       "'Number of rows: 106'"
      ],
      "text/plain": [
       "[1] \"Number of rows: 106\""
      ]
     },
     "metadata": {},
     "output_type": "display_data"
    }
   ],
   "source": [
    "raw_data <- read.csv(\"factor_analysis.csv\", header = TRUE)\n",
    "# raw data\n",
    "\n",
    "columns <- ncol(raw_data)\n",
    "rows <- nrow(raw_data)\n",
    "\n",
    "sprintf(\"Number of columns: %d\", columns)\n",
    "sprintf(\"Number of rows: %d\", rows)"
   ]
  },
  {
   "cell_type": "markdown",
   "metadata": {},
   "source": [
    "## Create Correlation Matrix\n",
    "\n",
    "All work can be done using the correlation matrix of the data. The goal is to reproduce this at the end via the extraction of factors."
   ]
  },
  {
   "cell_type": "code",
   "execution_count": 9,
   "metadata": {
    "vscode": {
     "languageId": "r"
    }
   },
   "outputs": [
    {
     "data": {
      "text/html": [
       "<table class=\"dataframe\">\n",
       "<caption>A matrix: 13 × 13 of type dbl</caption>\n",
       "<thead>\n",
       "\t<tr><th></th><th scope=col>Q2_1</th><th scope=col>Q2_2</th><th scope=col>Q2_3</th><th scope=col>Q2_4</th><th scope=col>Q2_5</th><th scope=col>Q2_6</th><th scope=col>Q2_7</th><th scope=col>Q2_8</th><th scope=col>Q2_9</th><th scope=col>Q2_10</th><th scope=col>Q2_11</th><th scope=col>Q2_12</th><th scope=col>Q2_13</th></tr>\n",
       "</thead>\n",
       "<tbody>\n",
       "\t<tr><th scope=row>Q2_1</th><td>1.00</td><td>0.40</td><td>0.36</td><td>0.17</td><td>0.00</td><td>0.12</td><td>0.31</td><td>0.28</td><td>0.26</td><td>0.20</td><td>0.24</td><td>0.15</td><td>0.33</td></tr>\n",
       "\t<tr><th scope=row>Q2_2</th><td>0.40</td><td>1.00</td><td>0.26</td><td>0.26</td><td>0.15</td><td>0.05</td><td>0.15</td><td>0.05</td><td>0.21</td><td>0.07</td><td>0.14</td><td>0.23</td><td>0.19</td></tr>\n",
       "\t<tr><th scope=row>Q2_3</th><td>0.36</td><td>0.26</td><td>1.00</td><td>0.35</td><td>0.30</td><td>0.26</td><td>0.28</td><td>0.26</td><td>0.50</td><td>0.33</td><td>0.22</td><td>0.18</td><td>0.43</td></tr>\n",
       "\t<tr><th scope=row>Q2_4</th><td>0.17</td><td>0.26</td><td>0.35</td><td>1.00</td><td>0.31</td><td>0.37</td><td>0.27</td><td>0.07</td><td>0.39</td><td>0.26</td><td>0.17</td><td>0.09</td><td>0.15</td></tr>\n",
       "\t<tr><th scope=row>Q2_5</th><td>0.00</td><td>0.15</td><td>0.30</td><td>0.31</td><td>1.00</td><td>0.36</td><td>0.24</td><td>0.12</td><td>0.34</td><td>0.27</td><td>0.24</td><td>0.25</td><td>0.25</td></tr>\n",
       "\t<tr><th scope=row>Q2_6</th><td>0.12</td><td>0.05</td><td>0.26</td><td>0.37</td><td>0.36</td><td>1.00</td><td>0.28</td><td>0.18</td><td>0.19</td><td>0.24</td><td>0.29</td><td>0.09</td><td>0.30</td></tr>\n",
       "\t<tr><th scope=row>Q2_7</th><td>0.31</td><td>0.15</td><td>0.28</td><td>0.27</td><td>0.24</td><td>0.28</td><td>1.00</td><td>0.21</td><td>0.25</td><td>0.34</td><td>0.11</td><td>0.06</td><td>0.42</td></tr>\n",
       "\t<tr><th scope=row>Q2_8</th><td>0.28</td><td>0.05</td><td>0.26</td><td>0.07</td><td>0.12</td><td>0.18</td><td>0.21</td><td>1.00</td><td>0.40</td><td>0.36</td><td>0.27</td><td>0.38</td><td>0.33</td></tr>\n",
       "\t<tr><th scope=row>Q2_9</th><td>0.26</td><td>0.21</td><td>0.50</td><td>0.39</td><td>0.34</td><td>0.19</td><td>0.25</td><td>0.40</td><td>1.00</td><td>0.40</td><td>0.25</td><td>0.20</td><td>0.39</td></tr>\n",
       "\t<tr><th scope=row>Q2_10</th><td>0.20</td><td>0.07</td><td>0.33</td><td>0.26</td><td>0.27</td><td>0.24</td><td>0.34</td><td>0.36</td><td>0.40</td><td>1.00</td><td>0.21</td><td>0.18</td><td>0.36</td></tr>\n",
       "\t<tr><th scope=row>Q2_11</th><td>0.24</td><td>0.14</td><td>0.22</td><td>0.17</td><td>0.24</td><td>0.29</td><td>0.11</td><td>0.27</td><td>0.25</td><td>0.21</td><td>1.00</td><td>0.33</td><td>0.31</td></tr>\n",
       "\t<tr><th scope=row>Q2_12</th><td>0.15</td><td>0.23</td><td>0.18</td><td>0.09</td><td>0.25</td><td>0.09</td><td>0.06</td><td>0.38</td><td>0.20</td><td>0.18</td><td>0.33</td><td>1.00</td><td>0.18</td></tr>\n",
       "\t<tr><th scope=row>Q2_13</th><td>0.33</td><td>0.19</td><td>0.43</td><td>0.15</td><td>0.25</td><td>0.30</td><td>0.42</td><td>0.33</td><td>0.39</td><td>0.36</td><td>0.31</td><td>0.18</td><td>1.00</td></tr>\n",
       "</tbody>\n",
       "</table>\n"
      ],
      "text/latex": [
       "A matrix: 13 × 13 of type dbl\n",
       "\\begin{tabular}{r|lllllllllllll}\n",
       "  & Q2\\_1 & Q2\\_2 & Q2\\_3 & Q2\\_4 & Q2\\_5 & Q2\\_6 & Q2\\_7 & Q2\\_8 & Q2\\_9 & Q2\\_10 & Q2\\_11 & Q2\\_12 & Q2\\_13\\\\\n",
       "\\hline\n",
       "\tQ2\\_1 & 1.00 & 0.40 & 0.36 & 0.17 & 0.00 & 0.12 & 0.31 & 0.28 & 0.26 & 0.20 & 0.24 & 0.15 & 0.33\\\\\n",
       "\tQ2\\_2 & 0.40 & 1.00 & 0.26 & 0.26 & 0.15 & 0.05 & 0.15 & 0.05 & 0.21 & 0.07 & 0.14 & 0.23 & 0.19\\\\\n",
       "\tQ2\\_3 & 0.36 & 0.26 & 1.00 & 0.35 & 0.30 & 0.26 & 0.28 & 0.26 & 0.50 & 0.33 & 0.22 & 0.18 & 0.43\\\\\n",
       "\tQ2\\_4 & 0.17 & 0.26 & 0.35 & 1.00 & 0.31 & 0.37 & 0.27 & 0.07 & 0.39 & 0.26 & 0.17 & 0.09 & 0.15\\\\\n",
       "\tQ2\\_5 & 0.00 & 0.15 & 0.30 & 0.31 & 1.00 & 0.36 & 0.24 & 0.12 & 0.34 & 0.27 & 0.24 & 0.25 & 0.25\\\\\n",
       "\tQ2\\_6 & 0.12 & 0.05 & 0.26 & 0.37 & 0.36 & 1.00 & 0.28 & 0.18 & 0.19 & 0.24 & 0.29 & 0.09 & 0.30\\\\\n",
       "\tQ2\\_7 & 0.31 & 0.15 & 0.28 & 0.27 & 0.24 & 0.28 & 1.00 & 0.21 & 0.25 & 0.34 & 0.11 & 0.06 & 0.42\\\\\n",
       "\tQ2\\_8 & 0.28 & 0.05 & 0.26 & 0.07 & 0.12 & 0.18 & 0.21 & 1.00 & 0.40 & 0.36 & 0.27 & 0.38 & 0.33\\\\\n",
       "\tQ2\\_9 & 0.26 & 0.21 & 0.50 & 0.39 & 0.34 & 0.19 & 0.25 & 0.40 & 1.00 & 0.40 & 0.25 & 0.20 & 0.39\\\\\n",
       "\tQ2\\_10 & 0.20 & 0.07 & 0.33 & 0.26 & 0.27 & 0.24 & 0.34 & 0.36 & 0.40 & 1.00 & 0.21 & 0.18 & 0.36\\\\\n",
       "\tQ2\\_11 & 0.24 & 0.14 & 0.22 & 0.17 & 0.24 & 0.29 & 0.11 & 0.27 & 0.25 & 0.21 & 1.00 & 0.33 & 0.31\\\\\n",
       "\tQ2\\_12 & 0.15 & 0.23 & 0.18 & 0.09 & 0.25 & 0.09 & 0.06 & 0.38 & 0.20 & 0.18 & 0.33 & 1.00 & 0.18\\\\\n",
       "\tQ2\\_13 & 0.33 & 0.19 & 0.43 & 0.15 & 0.25 & 0.30 & 0.42 & 0.33 & 0.39 & 0.36 & 0.31 & 0.18 & 1.00\\\\\n",
       "\\end{tabular}\n"
      ],
      "text/markdown": [
       "\n",
       "A matrix: 13 × 13 of type dbl\n",
       "\n",
       "| <!--/--> | Q2_1 | Q2_2 | Q2_3 | Q2_4 | Q2_5 | Q2_6 | Q2_7 | Q2_8 | Q2_9 | Q2_10 | Q2_11 | Q2_12 | Q2_13 |\n",
       "|---|---|---|---|---|---|---|---|---|---|---|---|---|---|\n",
       "| Q2_1 | 1.00 | 0.40 | 0.36 | 0.17 | 0.00 | 0.12 | 0.31 | 0.28 | 0.26 | 0.20 | 0.24 | 0.15 | 0.33 |\n",
       "| Q2_2 | 0.40 | 1.00 | 0.26 | 0.26 | 0.15 | 0.05 | 0.15 | 0.05 | 0.21 | 0.07 | 0.14 | 0.23 | 0.19 |\n",
       "| Q2_3 | 0.36 | 0.26 | 1.00 | 0.35 | 0.30 | 0.26 | 0.28 | 0.26 | 0.50 | 0.33 | 0.22 | 0.18 | 0.43 |\n",
       "| Q2_4 | 0.17 | 0.26 | 0.35 | 1.00 | 0.31 | 0.37 | 0.27 | 0.07 | 0.39 | 0.26 | 0.17 | 0.09 | 0.15 |\n",
       "| Q2_5 | 0.00 | 0.15 | 0.30 | 0.31 | 1.00 | 0.36 | 0.24 | 0.12 | 0.34 | 0.27 | 0.24 | 0.25 | 0.25 |\n",
       "| Q2_6 | 0.12 | 0.05 | 0.26 | 0.37 | 0.36 | 1.00 | 0.28 | 0.18 | 0.19 | 0.24 | 0.29 | 0.09 | 0.30 |\n",
       "| Q2_7 | 0.31 | 0.15 | 0.28 | 0.27 | 0.24 | 0.28 | 1.00 | 0.21 | 0.25 | 0.34 | 0.11 | 0.06 | 0.42 |\n",
       "| Q2_8 | 0.28 | 0.05 | 0.26 | 0.07 | 0.12 | 0.18 | 0.21 | 1.00 | 0.40 | 0.36 | 0.27 | 0.38 | 0.33 |\n",
       "| Q2_9 | 0.26 | 0.21 | 0.50 | 0.39 | 0.34 | 0.19 | 0.25 | 0.40 | 1.00 | 0.40 | 0.25 | 0.20 | 0.39 |\n",
       "| Q2_10 | 0.20 | 0.07 | 0.33 | 0.26 | 0.27 | 0.24 | 0.34 | 0.36 | 0.40 | 1.00 | 0.21 | 0.18 | 0.36 |\n",
       "| Q2_11 | 0.24 | 0.14 | 0.22 | 0.17 | 0.24 | 0.29 | 0.11 | 0.27 | 0.25 | 0.21 | 1.00 | 0.33 | 0.31 |\n",
       "| Q2_12 | 0.15 | 0.23 | 0.18 | 0.09 | 0.25 | 0.09 | 0.06 | 0.38 | 0.20 | 0.18 | 0.33 | 1.00 | 0.18 |\n",
       "| Q2_13 | 0.33 | 0.19 | 0.43 | 0.15 | 0.25 | 0.30 | 0.42 | 0.33 | 0.39 | 0.36 | 0.31 | 0.18 | 1.00 |\n",
       "\n"
      ],
      "text/plain": [
       "      Q2_1 Q2_2 Q2_3 Q2_4 Q2_5 Q2_6 Q2_7 Q2_8 Q2_9 Q2_10 Q2_11 Q2_12 Q2_13\n",
       "Q2_1  1.00 0.40 0.36 0.17 0.00 0.12 0.31 0.28 0.26 0.20  0.24  0.15  0.33 \n",
       "Q2_2  0.40 1.00 0.26 0.26 0.15 0.05 0.15 0.05 0.21 0.07  0.14  0.23  0.19 \n",
       "Q2_3  0.36 0.26 1.00 0.35 0.30 0.26 0.28 0.26 0.50 0.33  0.22  0.18  0.43 \n",
       "Q2_4  0.17 0.26 0.35 1.00 0.31 0.37 0.27 0.07 0.39 0.26  0.17  0.09  0.15 \n",
       "Q2_5  0.00 0.15 0.30 0.31 1.00 0.36 0.24 0.12 0.34 0.27  0.24  0.25  0.25 \n",
       "Q2_6  0.12 0.05 0.26 0.37 0.36 1.00 0.28 0.18 0.19 0.24  0.29  0.09  0.30 \n",
       "Q2_7  0.31 0.15 0.28 0.27 0.24 0.28 1.00 0.21 0.25 0.34  0.11  0.06  0.42 \n",
       "Q2_8  0.28 0.05 0.26 0.07 0.12 0.18 0.21 1.00 0.40 0.36  0.27  0.38  0.33 \n",
       "Q2_9  0.26 0.21 0.50 0.39 0.34 0.19 0.25 0.40 1.00 0.40  0.25  0.20  0.39 \n",
       "Q2_10 0.20 0.07 0.33 0.26 0.27 0.24 0.34 0.36 0.40 1.00  0.21  0.18  0.36 \n",
       "Q2_11 0.24 0.14 0.22 0.17 0.24 0.29 0.11 0.27 0.25 0.21  1.00  0.33  0.31 \n",
       "Q2_12 0.15 0.23 0.18 0.09 0.25 0.09 0.06 0.38 0.20 0.18  0.33  1.00  0.18 \n",
       "Q2_13 0.33 0.19 0.43 0.15 0.25 0.30 0.42 0.33 0.39 0.36  0.31  0.18  1.00 "
      ]
     },
     "metadata": {},
     "output_type": "display_data"
    }
   ],
   "source": [
    "corr_matrix <- cor(raw_data)\n",
    "round(corr_matrix, 2)"
   ]
  },
  {
   "cell_type": "markdown",
   "metadata": {},
   "source": [
    "## Diagnostic Tests of Appropriateness\n",
    "\n",
    "### KMO\n",
    "\n",
    "Kaiser-Meyer-Olkin index of sampling adequacy should be greater than 0.5, with 0.7 and above preferred."
   ]
  },
  {
   "cell_type": "code",
   "execution_count": 11,
   "metadata": {
    "vscode": {
     "languageId": "r"
    }
   },
   "outputs": [
    {
     "data": {
      "text/plain": [
       "Kaiser-Meyer-Olkin factor adequacy\n",
       "Call: psych::KMO(r = corr_matrix)\n",
       "Overall MSA =  0.8\n",
       "MSA for each item = \n",
       " Q2_1  Q2_2  Q2_3  Q2_4  Q2_5  Q2_6  Q2_7  Q2_8  Q2_9 Q2_10 Q2_11 Q2_12 Q2_13 \n",
       " 0.74  0.69  0.87  0.76  0.78  0.76  0.81  0.75  0.82  0.90  0.83  0.70  0.84 "
      ]
     },
     "metadata": {},
     "output_type": "display_data"
    }
   ],
   "source": [
    "psych::KMO(corr_matrix)"
   ]
  },
  {
   "cell_type": "markdown",
   "metadata": {},
   "source": [
    "Overall KMO = 0.8, which is good. ✅\n",
    "\n",
    "Individual items with KMO < 0.5 should be removed. None found ✅\n",
    "\n",
    "### Bartlett's\n",
    "\n",
    "Bartlett's checks for an identity matrix. We want to have a significant value with p < 0.05 to show that there are relationships that can be analyzed."
   ]
  },
  {
   "cell_type": "code",
   "execution_count": 12,
   "metadata": {
    "vscode": {
     "languageId": "r"
    }
   },
   "outputs": [
    {
     "data": {
      "text/html": [
       "<dl>\n",
       "\t<dt>$chisq</dt>\n",
       "\t\t<dd>317.318369113448</dd>\n",
       "\t<dt>$p.value</dt>\n",
       "\t\t<dd>1.29463084763573e-30</dd>\n",
       "\t<dt>$df</dt>\n",
       "\t\t<dd>78</dd>\n",
       "</dl>\n"
      ],
      "text/latex": [
       "\\begin{description}\n",
       "\\item[\\$chisq] 317.318369113448\n",
       "\\item[\\$p.value] 1.29463084763573e-30\n",
       "\\item[\\$df] 78\n",
       "\\end{description}\n"
      ],
      "text/markdown": [
       "$chisq\n",
       ":   317.318369113448\n",
       "$p.value\n",
       ":   1.29463084763573e-30\n",
       "$df\n",
       ":   78\n",
       "\n",
       "\n"
      ],
      "text/plain": [
       "$chisq\n",
       "[1] 317.3184\n",
       "\n",
       "$p.value\n",
       "[1] 1.294631e-30\n",
       "\n",
       "$df\n",
       "[1] 78\n"
      ]
     },
     "metadata": {},
     "output_type": "display_data"
    }
   ],
   "source": [
    "psych::cortest.bartlett(corr_matrix, n = nrow(raw_data))"
   ]
  },
  {
   "cell_type": "markdown",
   "metadata": {},
   "source": [
    "Bartlett's test was significant, $\\chi^2(78) = 317.318, p< 0.01$ ✅\n",
    "\n",
    "### Determinant\n",
    "\n",
    "The determinant of the correlation matrix should be greater than 0.00001; otherwise we may have issues with multicollinearity or singularity."
   ]
  },
  {
   "cell_type": "code",
   "execution_count": 13,
   "metadata": {
    "vscode": {
     "languageId": "r"
    }
   },
   "outputs": [
    {
     "data": {
      "text/html": [
       "0.0416488650794213"
      ],
      "text/latex": [
       "0.0416488650794213"
      ],
      "text/markdown": [
       "0.0416488650794213"
      ],
      "text/plain": [
       "[1] 0.04164887"
      ]
     },
     "metadata": {},
     "output_type": "display_data"
    }
   ],
   "source": [
    "det(corr_matrix)"
   ]
  },
  {
   "cell_type": "markdown",
   "metadata": {},
   "source": [
    "Determinant is 0.0416, which is greater than 0.00001. ✅\n",
    "\n",
    "## Principal Axis Factoring\n",
    "\n",
    "Start by selecting a reasonable number of factors and running the analysis. Goal is to get an idea of the cumulative variance explained and the number of factors to extract. Since we are theorizing a single factor, any number less than the total number of items is a good place to start."
   ]
  },
  {
   "cell_type": "code",
   "execution_count": 37,
   "metadata": {
    "vscode": {
     "languageId": "r"
    }
   },
   "outputs": [
    {
     "data": {
      "text/plain": [
       "Factor Analysis using method =  pa\n",
       "Call: psych::fa(r = corr_matrix, nfactors = 7, rotate = \"none\", max.iter = 1000, \n",
       "    fm = \"pa\")\n",
       "Standardized loadings (pattern matrix) based upon correlation matrix\n",
       "       PA1   PA2   PA3   PA4   PA5   PA6   PA7   h2   u2 com\n",
       "Q2_1  0.54  0.50 -0.45  0.22  0.22 -0.12  0.15 0.89 0.11 4.0\n",
       "Q2_2  0.36  0.22 -0.13  0.35  0.01  0.11 -0.19 0.36 0.64 3.7\n",
       "Q2_3  0.62  0.01 -0.07  0.11 -0.20 -0.09 -0.06 0.45 0.55 1.4\n",
       "Q2_4  0.48 -0.27 -0.04  0.34 -0.14  0.07  0.03 0.45 0.55 2.8\n",
       "Q2_5  0.46 -0.27  0.21  0.11 -0.06  0.11 -0.12 0.37 0.63 2.6\n",
       "Q2_6  0.52 -0.56  0.10  0.12  0.42 -0.21  0.12 0.84 0.16 3.5\n",
       "Q2_7  0.57 -0.20 -0.40 -0.27  0.09  0.48  0.08 0.84 0.16 3.7\n",
       "Q2_8  0.52  0.26  0.26 -0.28  0.00 -0.07  0.33 0.59 0.41 3.6\n",
       "Q2_9  0.66  0.01  0.09  0.05 -0.44 -0.09  0.09 0.66 0.34 1.9\n",
       "Q2_10 0.53 -0.06  0.05 -0.15 -0.13  0.02  0.13 0.35 0.65 1.5\n",
       "Q2_11 0.43  0.06  0.20  0.03  0.16 -0.09 -0.04 0.27 0.73 1.9\n",
       "Q2_12 0.41  0.36  0.57  0.06  0.20  0.28 -0.11 0.76 0.24 3.6\n",
       "Q2_13 0.69  0.03 -0.14 -0.41  0.05 -0.22 -0.40 0.88 0.12 2.7\n",
       "\n",
       "                       PA1  PA2  PA3  PA4  PA5  PA6  PA7\n",
       "SS loadings           3.67 1.00 0.90 0.69 0.58 0.47 0.41\n",
       "Proportion Var        0.28 0.08 0.07 0.05 0.04 0.04 0.03\n",
       "Cumulative Var        0.28 0.36 0.43 0.48 0.53 0.56 0.59\n",
       "Proportion Explained  0.48 0.13 0.12 0.09 0.07 0.06 0.05\n",
       "Cumulative Proportion 0.48 0.61 0.72 0.81 0.89 0.95 1.00\n",
       "\n",
       "Mean item complexity =  2.8\n",
       "Test of the hypothesis that 7 factors are sufficient.\n",
       "\n",
       "df null model =  78  with the objective function =  3.18\n",
       "df of  the model are 8  and the objective function was  0.03 \n",
       "\n",
       "The root mean square of the residuals (RMSR) is  0.01 \n",
       "The df corrected root mean square of the residuals is  0.03 \n",
       "\n",
       "Fit based upon off diagonal values = 1\n",
       "Measures of factor score adequacy             \n",
       "                                                   PA1  PA2  PA3  PA4  PA5  PA6\n",
       "Correlation of (regression) scores with factors   0.96 0.92 0.90 0.84 0.82 0.85\n",
       "Multiple R square of scores with factors          0.93 0.84 0.81 0.70 0.68 0.72\n",
       "Minimum correlation of possible factor scores     0.85 0.68 0.61 0.40 0.36 0.44\n",
       "                                                   PA7\n",
       "Correlation of (regression) scores with factors   0.79\n",
       "Multiple R square of scores with factors          0.62\n",
       "Minimum correlation of possible factor scores     0.24"
      ]
     },
     "metadata": {},
     "output_type": "display_data"
    }
   ],
   "source": [
    "initial_paf_7 <- psych::fa(corr_matrix, nfactors = 7, fm = 'pa', rotate = 'none', max.iter = 1000)\n",
    "initial_paf_7"
   ]
  },
  {
   "cell_type": "markdown",
   "metadata": {},
   "source": [
    "_In my testing, no more than 7 factors would produce a result. I also increased the number of max iterations to 1000 to remove the warning that max iterations was exceeded_\n",
    "\n",
    "Looking at the Eigenvalues (SS loadings), we see a 1 factor solution being supported by Kaiser's criteria (Eigenvalues > 1) under the theory that an Eigenvalue of 1 explains the same as a single variable. (Note that we have an Eigenvalue exactly 1).\n",
    "\n",
    "We also see a 3 factor solution being supported by Joliffe's criteria (Eigenvalues > 0.7). \n",
    "\n",
    "Finally, we can also look at a Scree plot, which would support a 2 factor solution. "
   ]
  },
  {
   "cell_type": "code",
   "execution_count": 39,
   "metadata": {
    "vscode": {
     "languageId": "r"
    }
   },
   "outputs": [
    {
     "data": {
      "image/png": "[encoded data removed]",
      "text/plain": [
       "Plot with title “Scree Plot of Eigenvalues”"
      ]
     },
     "metadata": {
      "image/png": {
       "height": 420,
       "width": 420
      }
     },
     "output_type": "display_data"
    }
   ],
   "source": [
    "par(bg = \"white\")\n",
    "plot(initial_paf_7$values, type = \"b\", xlab = \"Number of Factors\", ylab = \"Eigenvalues\", col = \"blue\", pch = 19, main = \"Scree Plot of Eigenvalues\")"
   ]
  },
  {
   "cell_type": "markdown",
   "metadata": {},
   "source": [
    "I will analyze all 3 options and look for a parsimonious solution.\n",
    "\n",
    "### 3 Factors"
   ]
  },
  {
   "cell_type": "code",
   "execution_count": 40,
   "metadata": {
    "vscode": {
     "languageId": "r"
    }
   },
   "outputs": [
    {
     "data": {
      "text/plain": [
       "Factor Analysis using method =  pa\n",
       "Call: psych::fa(r = corr_matrix, nfactors = 3, rotate = \"none\", max.iter = 1000, \n",
       "    fm = \"pa\")\n",
       "Standardized loadings (pattern matrix) based upon correlation matrix\n",
       "       PA1   PA2   PA3   h2   u2 com\n",
       "Q2_1  0.54 -0.61  0.28 0.75 0.25 2.4\n",
       "Q2_2  0.36 -0.20  0.27 0.24 0.76 2.5\n",
       "Q2_3  0.64  0.01  0.13 0.43 0.57 1.1\n",
       "Q2_4  0.49  0.28  0.30 0.41 0.59 2.3\n",
       "Q2_5  0.48  0.39  0.00 0.38 0.62 1.9\n",
       "Q2_6  0.45  0.29  0.06 0.30 0.70 1.7\n",
       "Q2_7  0.49  0.03  0.12 0.26 0.74 1.1\n",
       "Q2_8  0.54 -0.21 -0.54 0.62 0.38 2.3\n",
       "Q2_9  0.64  0.07 -0.04 0.42 0.58 1.0\n",
       "Q2_10 0.54  0.10 -0.13 0.32 0.68 1.2\n",
       "Q2_11 0.44 -0.01 -0.14 0.21 0.79 1.2\n",
       "Q2_12 0.37 -0.08 -0.26 0.21 0.79 1.9\n",
       "Q2_13 0.61 -0.05 -0.04 0.38 0.62 1.0\n",
       "\n",
       "                       PA1  PA2  PA3\n",
       "SS loadings           3.45 0.80 0.67\n",
       "Proportion Var        0.27 0.06 0.05\n",
       "Cumulative Var        0.27 0.33 0.38\n",
       "Proportion Explained  0.70 0.16 0.14\n",
       "Cumulative Proportion 0.70 0.86 1.00\n",
       "\n",
       "Mean item complexity =  1.7\n",
       "Test of the hypothesis that 3 factors are sufficient.\n",
       "\n",
       "df null model =  78  with the objective function =  3.18\n",
       "df of  the model are 42  and the objective function was  0.5 \n",
       "\n",
       "The root mean square of the residuals (RMSR) is  0.05 \n",
       "The df corrected root mean square of the residuals is  0.07 \n",
       "\n",
       "Fit based upon off diagonal values = 0.96\n",
       "Measures of factor score adequacy             \n",
       "                                                   PA1  PA2  PA3\n",
       "Correlation of (regression) scores with factors   0.93 0.82 0.78\n",
       "Multiple R square of scores with factors          0.86 0.67 0.60\n",
       "Minimum correlation of possible factor scores     0.72 0.35 0.21"
      ]
     },
     "metadata": {},
     "output_type": "display_data"
    }
   ],
   "source": [
    "test_paf_3 <- psych::fa(corr_matrix, nfactors = 3, fm = 'pa', rotate = 'none', max.iter = 1000)\n",
    "test_paf_3"
   ]
  },
  {
   "cell_type": "markdown",
   "metadata": {},
   "source": [
    "**Analysis of Residuals**"
   ]
  },
  {
   "cell_type": "code",
   "execution_count": 49,
   "metadata": {
    "vscode": {
     "languageId": "r"
    }
   },
   "outputs": [
    {
     "data": {
      "text/html": [
       "21"
      ],
      "text/latex": [
       "21"
      ],
      "text/markdown": [
       "21"
      ],
      "text/plain": [
       "[1] 21"
      ]
     },
     "metadata": {},
     "output_type": "display_data"
    },
    {
     "data": {
      "text/html": [
       "0.269"
      ],
      "text/latex": [
       "0.269"
      ],
      "text/markdown": [
       "0.269"
      ],
      "text/plain": [
       "[1] 0.269"
      ]
     },
     "metadata": {},
     "output_type": "display_data"
    },
    {
     "data": {
      "text/html": [
       "0.024"
      ],
      "text/latex": [
       "0.024"
      ],
      "text/markdown": [
       "0.024"
      ],
      "text/plain": [
       "[1] 0.024"
      ]
     },
     "metadata": {},
     "output_type": "display_data"
    },
    {
     "data": {
      "image/png": "[encoded data removed]",
      "text/plain": [
       "Plot with title “Histogram of Residuals”"
      ]
     },
     "metadata": {
      "image/png": {
       "height": 420,
       "width": 420
      }
     },
     "output_type": "display_data"
    }
   ],
   "source": [
    "test_paf_3_resids <- psych::factor.residuals(corr_matrix, test_paf_3$loadings)\n",
    "test_paf_3_resids <- as.matrix(test_paf_3_resids[upper.tri(test_paf_3_resids)])\n",
    "sum(abs(test_paf_3_resids) > 0.05)\n",
    "round(sum(abs(test_paf_3_resids) > 0.05)/nrow(test_paf_3_resids), 3)\n",
    "round(sqrt(mean(test_paf_3_resids)), 3)\n",
    "par(bg = \"white\")\n",
    "hist(test_paf_3_resids, main = \"Histogram of Residuals\", xlab = \"Residuals\", col = \"blue\")"
   ]
  },
  {
   "cell_type": "markdown",
   "metadata": {},
   "source": [
    "**Rotation Analysis**"
   ]
  },
  {
   "cell_type": "code",
   "execution_count": 57,
   "metadata": {
    "vscode": {
     "languageId": "r"
    }
   },
   "outputs": [
    {
     "name": "stdout",
     "output_type": "stream",
     "text": [
      "Factor Analysis using method =  pa\n",
      "Call: psych::fa(r = corr_matrix, nfactors = 3, rotate = \"varimax\", \n",
      "    max.iter = 1000, fm = \"pa\")\n",
      "Standardized loadings (pattern matrix) based upon correlation matrix\n",
      "      item   PA1   PA3   PA2   h2   u2 com\n",
      "Q2_4     4  0.60             0.41 0.59 1.3\n",
      "Q2_5     5  0.59             0.38 0.62 1.2\n",
      "Q2_6     6  0.52             0.30 0.70 1.2\n",
      "Q2_3     3  0.45        0.38 0.43 0.57 2.6\n",
      "Q2_9     9  0.45  0.40       0.42 0.58 2.5\n",
      "Q2_7     7  0.37             0.26 0.74 2.4\n",
      "Q2_8     8        0.78       0.62 0.38 1.0\n",
      "Q2_12   12        0.44       0.21 0.79 1.2\n",
      "Q2_13   13  0.35  0.41  0.31 0.38 0.62 2.8\n",
      "Q2_10   10  0.38  0.40       0.32 0.68 2.2\n",
      "Q2_11   11        0.37       0.21 0.79 2.0\n",
      "Q2_1     1              0.83 0.75 0.25 1.2\n",
      "Q2_2     2              0.45 0.24 0.76 1.3\n",
      "\n",
      "                       PA1  PA3  PA2\n",
      "SS loadings           1.88 1.66 1.39\n",
      "Proportion Var        0.14 0.13 0.11\n",
      "Cumulative Var        0.14 0.27 0.38\n",
      "Proportion Explained  0.38 0.34 0.28\n",
      "Cumulative Proportion 0.38 0.72 1.00\n",
      "\n",
      "Mean item complexity =  1.8\n",
      "Test of the hypothesis that 3 factors are sufficient.\n",
      "\n",
      "df null model =  78  with the objective function =  3.18\n",
      "df of  the model are 42  and the objective function was  0.5 \n",
      "\n",
      "The root mean square of the residuals (RMSR) is  0.05 \n",
      "The df corrected root mean square of the residuals is  0.07 \n",
      "\n",
      "Fit based upon off diagonal values = 0.96\n",
      "Measures of factor score adequacy             \n",
      "                                                   PA1  PA3  PA2\n",
      "Correlation of (regression) scores with factors   0.83 0.83 0.87\n",
      "Multiple R square of scores with factors          0.69 0.69 0.75\n",
      "Minimum correlation of possible factor scores     0.39 0.39 0.50\n"
     ]
    }
   ],
   "source": [
    "test_paf3_orthogonal <- psych::fa(corr_matrix, nfactors = 3, fm = 'pa', rotate = 'varimax', max.iter = 1000)\n",
    "psych::print.psych(test_paf3_orthogonal, cut = 0.3, sort = TRUE)"
   ]
  },
  {
   "cell_type": "code",
   "execution_count": 55,
   "metadata": {
    "vscode": {
     "languageId": "r"
    }
   },
   "outputs": [
    {
     "name": "stdout",
     "output_type": "stream",
     "text": [
      "Factor Analysis using method =  pa\n",
      "Call: psych::fa(r = corr_matrix, nfactors = 3, rotate = \"oblimin\", \n",
      "    max.iter = 1000, fm = \"pa\")\n",
      "Standardized loadings (pattern matrix) based upon correlation matrix\n",
      "      item   PA1   PA3   PA2   h2   u2 com\n",
      "Q2_4     4  0.66             0.41 0.59 1.2\n",
      "Q2_5     5  0.62             0.38 0.62 1.2\n",
      "Q2_6     6  0.55             0.30 0.70 1.1\n",
      "Q2_3     3  0.47             0.43 0.57 1.7\n",
      "Q2_9     9  0.45             0.42 0.58 1.7\n",
      "Q2_7     7  0.39             0.26 0.74 1.5\n",
      "Q2_10   10  0.38  0.31       0.32 0.68 1.9\n",
      "Q2_13   13  0.34             0.38 0.62 2.6\n",
      "Q2_8     8        0.79       0.62 0.38 1.0\n",
      "Q2_12   12        0.42       0.21 0.79 1.1\n",
      "Q2_11   11        0.30       0.21 0.79 1.9\n",
      "Q2_1     1              0.86 0.75 0.25 1.0\n",
      "Q2_2     2              0.43 0.24 0.76 1.5\n",
      "\n",
      "                       PA1  PA3  PA2\n",
      "SS loadings           2.28 1.37 1.28\n",
      "Proportion Var        0.18 0.11 0.10\n",
      "Cumulative Var        0.18 0.28 0.38\n",
      "Proportion Explained  0.46 0.28 0.26\n",
      "Cumulative Proportion 0.46 0.74 1.00\n",
      "\n",
      " With factor correlations of \n",
      "     PA1  PA3  PA2\n",
      "PA1 1.00 0.36 0.31\n",
      "PA3 0.36 1.00 0.34\n",
      "PA2 0.31 0.34 1.00\n",
      "\n",
      "Mean item complexity =  1.5\n",
      "Test of the hypothesis that 3 factors are sufficient.\n",
      "\n",
      "df null model =  78  with the objective function =  3.18\n",
      "df of  the model are 42  and the objective function was  0.5 \n",
      "\n",
      "The root mean square of the residuals (RMSR) is  0.05 \n",
      "The df corrected root mean square of the residuals is  0.07 \n",
      "\n",
      "Fit based upon off diagonal values = 0.96\n",
      "Measures of factor score adequacy             \n",
      "                                                   PA1  PA3  PA2\n",
      "Correlation of (regression) scores with factors   0.88 0.85 0.89\n",
      "Multiple R square of scores with factors          0.78 0.73 0.79\n",
      "Minimum correlation of possible factor scores     0.55 0.46 0.58\n"
     ]
    }
   ],
   "source": [
    "test_paf3_oblique <- psych::fa(corr_matrix, nfactors = 3, fm = 'pa', rotate = 'oblimin', max.iter = 1000)\n",
    "psych::print.psych(test_paf3_oblique, cut = 0.3, sort = TRUE)"
   ]
  },
  {
   "cell_type": "markdown",
   "metadata": {},
   "source": [
    "## 2 Factors"
   ]
  },
  {
   "cell_type": "code",
   "execution_count": 41,
   "metadata": {
    "vscode": {
     "languageId": "r"
    }
   },
   "outputs": [
    {
     "data": {
      "text/plain": [
       "Factor Analysis using method =  pa\n",
       "Call: psych::fa(r = corr_matrix, nfactors = 2, rotate = \"none\", max.iter = 1000, \n",
       "    fm = \"pa\")\n",
       "Standardized loadings (pattern matrix) based upon correlation matrix\n",
       "       PA1   PA2   h2   u2 com\n",
       "Q2_1  0.47  0.30 0.32 0.68 1.7\n",
       "Q2_2  0.34  0.09 0.13 0.87 1.1\n",
       "Q2_3  0.64 -0.01 0.41 0.59 1.0\n",
       "Q2_4  0.50 -0.38 0.39 0.61 1.9\n",
       "Q2_5  0.48 -0.33 0.34 0.66 1.8\n",
       "Q2_6  0.47 -0.32 0.32 0.68 1.8\n",
       "Q2_7  0.49 -0.07 0.25 0.75 1.0\n",
       "Q2_8  0.50  0.33 0.36 0.64 1.7\n",
       "Q2_9  0.65  0.00 0.42 0.58 1.0\n",
       "Q2_10 0.55  0.00 0.30 0.70 1.0\n",
       "Q2_11 0.44  0.09 0.20 0.80 1.1\n",
       "Q2_12 0.37  0.21 0.18 0.82 1.6\n",
       "Q2_13 0.62  0.12 0.40 0.60 1.1\n",
       "\n",
       "                       PA1  PA2\n",
       "SS loadings           3.39 0.63\n",
       "Proportion Var        0.26 0.05\n",
       "Cumulative Var        0.26 0.31\n",
       "Proportion Explained  0.84 0.16\n",
       "Cumulative Proportion 0.84 1.00\n",
       "\n",
       "Mean item complexity =  1.4\n",
       "Test of the hypothesis that 2 factors are sufficient.\n",
       "\n",
       "df null model =  78  with the objective function =  3.18\n",
       "df of  the model are 53  and the objective function was  0.75 \n",
       "\n",
       "The root mean square of the residuals (RMSR) is  0.07 \n",
       "The df corrected root mean square of the residuals is  0.08 \n",
       "\n",
       "Fit based upon off diagonal values = 0.93\n",
       "Measures of factor score adequacy             \n",
       "                                                   PA1   PA2\n",
       "Correlation of (regression) scores with factors   0.92  0.70\n",
       "Multiple R square of scores with factors          0.84  0.49\n",
       "Minimum correlation of possible factor scores     0.68 -0.02"
      ]
     },
     "metadata": {},
     "output_type": "display_data"
    }
   ],
   "source": [
    "test_paf_2 <- psych::fa(corr_matrix, nfactors = 2, fm = 'pa', rotate = 'none', max.iter = 1000)\n",
    "test_paf_2"
   ]
  },
  {
   "cell_type": "markdown",
   "metadata": {},
   "source": [
    "**Analysis of Residuals**"
   ]
  },
  {
   "cell_type": "code",
   "execution_count": 50,
   "metadata": {
    "vscode": {
     "languageId": "r"
    }
   },
   "outputs": [
    {
     "data": {
      "text/html": [
       "33"
      ],
      "text/latex": [
       "33"
      ],
      "text/markdown": [
       "33"
      ],
      "text/plain": [
       "[1] 33"
      ]
     },
     "metadata": {},
     "output_type": "display_data"
    },
    {
     "data": {
      "text/html": [
       "0.423"
      ],
      "text/latex": [
       "0.423"
      ],
      "text/markdown": [
       "0.423"
      ],
      "text/plain": [
       "[1] 0.423"
      ]
     },
     "metadata": {},
     "output_type": "display_data"
    },
    {
     "data": {
      "text/html": [
       "0.024"
      ],
      "text/latex": [
       "0.024"
      ],
      "text/markdown": [
       "0.024"
      ],
      "text/plain": [
       "[1] 0.024"
      ]
     },
     "metadata": {},
     "output_type": "display_data"
    },
    {
     "data": {
      "image/png": "[encoded data removed]",
      "text/plain": [
       "Plot with title “Histogram of Residuals”"
      ]
     },
     "metadata": {
      "image/png": {
       "height": 420,
       "width": 420
      }
     },
     "output_type": "display_data"
    }
   ],
   "source": [
    "test_paf_2_resids <- psych::factor.residuals(corr_matrix, test_paf_2$loadings)\n",
    "test_paf_2_resids <- as.matrix(test_paf_2_resids[upper.tri(test_paf_2_resids)])\n",
    "sum(abs(test_paf_2_resids) > 0.05)\n",
    "round(sum(abs(test_paf_2_resids) > 0.05)/nrow(test_paf_2_resids), 3)\n",
    "round(sqrt(mean(test_paf_2_resids)), 3)\n",
    "par(bg = \"white\")\n",
    "hist(test_paf_2_resids, main = \"Histogram of Residuals\", xlab = \"Residuals\", col = \"blue\")"
   ]
  },
  {
   "cell_type": "markdown",
   "metadata": {},
   "source": [
    "**Rotation Analysis**"
   ]
  },
  {
   "cell_type": "code",
   "execution_count": 58,
   "metadata": {
    "vscode": {
     "languageId": "r"
    }
   },
   "outputs": [
    {
     "name": "stdout",
     "output_type": "stream",
     "text": [
      "Factor Analysis using method =  pa\n",
      "Call: psych::fa(r = corr_matrix, nfactors = 2, rotate = \"varimax\", \n",
      "    max.iter = 1000, fm = \"pa\")\n",
      "Standardized loadings (pattern matrix) based upon correlation matrix\n",
      "      item  PA1  PA2   h2   u2 com\n",
      "Q2_8     8 0.60      0.36 0.64 1.0\n",
      "Q2_1     1 0.55      0.32 0.68 1.1\n",
      "Q2_13   13 0.54 0.33 0.40 0.60 1.6\n",
      "Q2_9     9 0.49 0.43 0.42 0.58 2.0\n",
      "Q2_3     3 0.47 0.44 0.41 0.59 2.0\n",
      "Q2_12   12 0.42      0.18 0.82 1.1\n",
      "Q2_10   10 0.40 0.37 0.30 0.70 2.0\n",
      "Q2_11   11 0.39      0.20 0.80 1.6\n",
      "Q2_2     2 0.32      0.13 0.87 1.5\n",
      "Q2_4     4      0.61 0.39 0.61 1.1\n",
      "Q2_5     5      0.56 0.34 0.66 1.1\n",
      "Q2_6     6      0.55 0.32 0.68 1.1\n",
      "Q2_7     7 0.32 0.38 0.25 0.75 1.9\n",
      "\n",
      "                       PA1  PA2\n",
      "SS loadings           2.16 1.86\n",
      "Proportion Var        0.17 0.14\n",
      "Cumulative Var        0.17 0.31\n",
      "Proportion Explained  0.54 0.46\n",
      "Cumulative Proportion 0.54 1.00\n",
      "\n",
      "Mean item complexity =  1.5\n",
      "Test of the hypothesis that 2 factors are sufficient.\n",
      "\n",
      "df null model =  78  with the objective function =  3.18\n",
      "df of  the model are 53  and the objective function was  0.75 \n",
      "\n",
      "The root mean square of the residuals (RMSR) is  0.07 \n",
      "The df corrected root mean square of the residuals is  0.08 \n",
      "\n",
      "Fit based upon off diagonal values = 0.93\n",
      "Measures of factor score adequacy             \n",
      "                                                   PA1  PA2\n",
      "Correlation of (regression) scores with factors   0.82 0.80\n",
      "Multiple R square of scores with factors          0.68 0.65\n",
      "Minimum correlation of possible factor scores     0.36 0.29\n"
     ]
    }
   ],
   "source": [
    "test_paf2_orthogonal <- psych::fa(corr_matrix, nfactors = 2, fm = 'pa', rotate = 'varimax', max.iter = 1000)\n",
    "psych::print.psych(test_paf2_orthogonal, cut = 0.3, sort = TRUE)"
   ]
  },
  {
   "cell_type": "code",
   "execution_count": 59,
   "metadata": {
    "vscode": {
     "languageId": "r"
    }
   },
   "outputs": [
    {
     "name": "stdout",
     "output_type": "stream",
     "text": [
      "Factor Analysis using method =  pa\n",
      "Call: psych::fa(r = corr_matrix, nfactors = 2, rotate = \"oblimin\", \n",
      "    max.iter = 1000, fm = \"pa\")\n",
      "Standardized loadings (pattern matrix) based upon correlation matrix\n",
      "      item   PA1   PA2   h2   u2 com\n",
      "Q2_8     8  0.66       0.36 0.64 1.1\n",
      "Q2_1     1  0.61       0.32 0.68 1.1\n",
      "Q2_13   13  0.53       0.40 0.60 1.2\n",
      "Q2_12   12  0.45       0.18 0.82 1.0\n",
      "Q2_9     9  0.44       0.42 0.58 1.8\n",
      "Q2_3     3  0.42  0.31 0.41 0.59 1.8\n",
      "Q2_11   11  0.39       0.20 0.80 1.2\n",
      "Q2_10   10  0.37       0.30 0.70 1.8\n",
      "Q2_2     2  0.32       0.13 0.87 1.1\n",
      "Q2_4     4        0.63 0.39 0.61 1.0\n",
      "Q2_5     5        0.58 0.34 0.66 1.0\n",
      "Q2_6     6        0.56 0.32 0.68 1.0\n",
      "Q2_7     7        0.30 0.25 0.75 2.0\n",
      "\n",
      "                       PA1  PA2\n",
      "SS loadings           2.34 1.68\n",
      "Proportion Var        0.18 0.13\n",
      "Cumulative Var        0.18 0.31\n",
      "Proportion Explained  0.58 0.42\n",
      "Cumulative Proportion 0.58 1.00\n",
      "\n",
      " With factor correlations of \n",
      "     PA1  PA2\n",
      "PA1 1.00 0.52\n",
      "PA2 0.52 1.00\n",
      "\n",
      "Mean item complexity =  1.3\n",
      "Test of the hypothesis that 2 factors are sufficient.\n",
      "\n",
      "df null model =  78  with the objective function =  3.18\n",
      "df of  the model are 53  and the objective function was  0.75 \n",
      "\n",
      "The root mean square of the residuals (RMSR) is  0.07 \n",
      "The df corrected root mean square of the residuals is  0.08 \n",
      "\n",
      "Fit based upon off diagonal values = 0.93\n",
      "Measures of factor score adequacy             \n",
      "                                                   PA1  PA2\n",
      "Correlation of (regression) scores with factors   0.88 0.85\n",
      "Multiple R square of scores with factors          0.78 0.72\n",
      "Minimum correlation of possible factor scores     0.56 0.45\n"
     ]
    }
   ],
   "source": [
    "test_paf2_oblique <- psych::fa(corr_matrix, nfactors = 2, fm = 'pa', rotate = 'oblimin', max.iter = 1000)\n",
    "psych::print.psych(test_paf2_oblique, cut = 0.3, sort = TRUE)"
   ]
  },
  {
   "cell_type": "markdown",
   "metadata": {},
   "source": [
    "## 1 Factor"
   ]
  },
  {
   "cell_type": "code",
   "execution_count": 42,
   "metadata": {
    "vscode": {
     "languageId": "r"
    }
   },
   "outputs": [
    {
     "data": {
      "text/plain": [
       "Factor Analysis using method =  pa\n",
       "Call: psych::fa(r = corr_matrix, nfactors = 1, rotate = \"none\", max.iter = 1000, \n",
       "    fm = \"pa\")\n",
       "Standardized loadings (pattern matrix) based upon correlation matrix\n",
       "       PA1   h2   u2 com\n",
       "Q2_1  0.46 0.22 0.78   1\n",
       "Q2_2  0.35 0.12 0.88   1\n",
       "Q2_3  0.65 0.42 0.58   1\n",
       "Q2_4  0.48 0.23 0.77   1\n",
       "Q2_5  0.47 0.22 0.78   1\n",
       "Q2_6  0.45 0.20 0.80   1\n",
       "Q2_7  0.50 0.25 0.75   1\n",
       "Q2_8  0.49 0.24 0.76   1\n",
       "Q2_9  0.66 0.43 0.57   1\n",
       "Q2_10 0.55 0.30 0.70   1\n",
       "Q2_11 0.44 0.20 0.80   1\n",
       "Q2_12 0.36 0.13 0.87   1\n",
       "Q2_13 0.63 0.39 0.61   1\n",
       "\n",
       "                PA1\n",
       "SS loadings    3.34\n",
       "Proportion Var 0.26\n",
       "\n",
       "Mean item complexity =  1\n",
       "Test of the hypothesis that 1 factor is sufficient.\n",
       "\n",
       "df null model =  78  with the objective function =  3.18\n",
       "df of  the model are 65  and the objective function was  0.96 \n",
       "\n",
       "The root mean square of the residuals (RMSR) is  0.08 \n",
       "The df corrected root mean square of the residuals is  0.09 \n",
       "\n",
       "Fit based upon off diagonal values = 0.9\n",
       "Measures of factor score adequacy             \n",
       "                                                   PA1\n",
       "Correlation of (regression) scores with factors   0.91\n",
       "Multiple R square of scores with factors          0.83\n",
       "Minimum correlation of possible factor scores     0.66"
      ]
     },
     "metadata": {},
     "output_type": "display_data"
    }
   ],
   "source": [
    "test_paf_1 <- psych::fa(corr_matrix, nfactors = 1, fm = 'pa', rotate = 'none', max.iter = 1000)\n",
    "test_paf_1"
   ]
  },
  {
   "cell_type": "markdown",
   "metadata": {},
   "source": [
    "**Analysis of Residuals**"
   ]
  },
  {
   "cell_type": "code",
   "execution_count": 51,
   "metadata": {
    "vscode": {
     "languageId": "r"
    }
   },
   "outputs": [
    {
     "data": {
      "text/html": [
       "40"
      ],
      "text/latex": [
       "40"
      ],
      "text/markdown": [
       "40"
      ],
      "text/plain": [
       "[1] 40"
      ]
     },
     "metadata": {},
     "output_type": "display_data"
    },
    {
     "data": {
      "text/html": [
       "0.513"
      ],
      "text/latex": [
       "0.513"
      ],
      "text/markdown": [
       "0.513"
      ],
      "text/plain": [
       "[1] 0.513"
      ]
     },
     "metadata": {},
     "output_type": "display_data"
    },
    {
     "data": {
      "text/html": [
       "0.024"
      ],
      "text/latex": [
       "0.024"
      ],
      "text/markdown": [
       "0.024"
      ],
      "text/plain": [
       "[1] 0.024"
      ]
     },
     "metadata": {},
     "output_type": "display_data"
    },
    {
     "data": {
      "image/png": "[encoded data removed]",
      "text/plain": [
       "Plot with title “Histogram of Residuals”"
      ]
     },
     "metadata": {
      "image/png": {
       "height": 420,
       "width": 420
      }
     },
     "output_type": "display_data"
    }
   ],
   "source": [
    "test_paf_1_resids <- psych::factor.residuals(corr_matrix, test_paf_1$loadings)\n",
    "test_paf_1_resids <- as.matrix(test_paf_1_resids[upper.tri(test_paf_1_resids)])\n",
    "sum(abs(test_paf_1_resids) > 0.05)\n",
    "round(sum(abs(test_paf_1_resids) > 0.05)/nrow(test_paf_1_resids), 3)\n",
    "round(sqrt(mean(test_paf_1_resids)), 3)\n",
    "par(bg = \"white\")\n",
    "hist(test_paf_1_resids, main = \"Histogram of Residuals\", xlab = \"Residuals\", col = \"blue\")"
   ]
  },
  {
   "cell_type": "markdown",
   "metadata": {},
   "source": [
    "**Rotation Analysis**"
   ]
  },
  {
   "cell_type": "code",
   "execution_count": 60,
   "metadata": {
    "vscode": {
     "languageId": "r"
    }
   },
   "outputs": [
    {
     "name": "stdout",
     "output_type": "stream",
     "text": [
      "Factor Analysis using method =  pa\n",
      "Call: psych::fa(r = corr_matrix, nfactors = 1, rotate = \"varimax\", \n",
      "    max.iter = 1000, fm = \"pa\")\n",
      "Standardized loadings (pattern matrix) based upon correlation matrix\n",
      "       V  PA1   h2   u2 com\n",
      "Q2_9   9 0.66 0.43 0.57   1\n",
      "Q2_3   3 0.65 0.42 0.58   1\n",
      "Q2_13 13 0.63 0.39 0.61   1\n",
      "Q2_10 10 0.55 0.30 0.70   1\n",
      "Q2_7   7 0.50 0.25 0.75   1\n",
      "Q2_8   8 0.49 0.24 0.76   1\n",
      "Q2_4   4 0.48 0.23 0.77   1\n",
      "Q2_5   5 0.47 0.22 0.78   1\n",
      "Q2_1   1 0.46 0.22 0.78   1\n",
      "Q2_6   6 0.45 0.20 0.80   1\n",
      "Q2_11 11 0.44 0.20 0.80   1\n",
      "Q2_12 12 0.36 0.13 0.87   1\n",
      "Q2_2   2 0.35 0.12 0.88   1\n",
      "\n",
      "                PA1\n",
      "SS loadings    3.34\n",
      "Proportion Var 0.26\n",
      "\n",
      "Mean item complexity =  1\n",
      "Test of the hypothesis that 1 factor is sufficient.\n",
      "\n",
      "df null model =  78  with the objective function =  3.18\n",
      "df of  the model are 65  and the objective function was  0.96 \n",
      "\n",
      "The root mean square of the residuals (RMSR) is  0.08 \n",
      "The df corrected root mean square of the residuals is  0.09 \n",
      "\n",
      "Fit based upon off diagonal values = 0.9\n",
      "Measures of factor score adequacy             \n",
      "                                                   PA1\n",
      "Correlation of (regression) scores with factors   0.91\n",
      "Multiple R square of scores with factors          0.83\n",
      "Minimum correlation of possible factor scores     0.66\n"
     ]
    }
   ],
   "source": [
    "test_paf1_orthogonal <- psych::fa(corr_matrix, nfactors = 1, fm = 'pa', rotate = 'varimax', max.iter = 1000)\n",
    "psych::print.psych(test_paf1_orthogonal, cut = 0.3, sort = TRUE)"
   ]
  },
  {
   "cell_type": "code",
   "execution_count": 61,
   "metadata": {
    "vscode": {
     "languageId": "r"
    }
   },
   "outputs": [
    {
     "name": "stdout",
     "output_type": "stream",
     "text": [
      "Factor Analysis using method =  pa\n",
      "Call: psych::fa(r = corr_matrix, nfactors = 1, rotate = \"oblimin\", \n",
      "    max.iter = 1000, fm = \"pa\")\n",
      "Standardized loadings (pattern matrix) based upon correlation matrix\n",
      "       V  PA1   h2   u2 com\n",
      "Q2_9   9 0.66 0.43 0.57   1\n",
      "Q2_3   3 0.65 0.42 0.58   1\n",
      "Q2_13 13 0.63 0.39 0.61   1\n",
      "Q2_10 10 0.55 0.30 0.70   1\n",
      "Q2_7   7 0.50 0.25 0.75   1\n",
      "Q2_8   8 0.49 0.24 0.76   1\n",
      "Q2_4   4 0.48 0.23 0.77   1\n",
      "Q2_5   5 0.47 0.22 0.78   1\n",
      "Q2_1   1 0.46 0.22 0.78   1\n",
      "Q2_6   6 0.45 0.20 0.80   1\n",
      "Q2_11 11 0.44 0.20 0.80   1\n",
      "Q2_12 12 0.36 0.13 0.87   1\n",
      "Q2_2   2 0.35 0.12 0.88   1\n",
      "\n",
      "                PA1\n",
      "SS loadings    3.34\n",
      "Proportion Var 0.26\n",
      "\n",
      "Mean item complexity =  1\n",
      "Test of the hypothesis that 1 factor is sufficient.\n",
      "\n",
      "df null model =  78  with the objective function =  3.18\n",
      "df of  the model are 65  and the objective function was  0.96 \n",
      "\n",
      "The root mean square of the residuals (RMSR) is  0.08 \n",
      "The df corrected root mean square of the residuals is  0.09 \n",
      "\n",
      "Fit based upon off diagonal values = 0.9\n",
      "Measures of factor score adequacy             \n",
      "                                                   PA1\n",
      "Correlation of (regression) scores with factors   0.91\n",
      "Multiple R square of scores with factors          0.83\n",
      "Minimum correlation of possible factor scores     0.66\n"
     ]
    }
   ],
   "source": [
    "test_paf1_oblique <- psych::fa(corr_matrix, nfactors = 1, fm = 'pa', rotate = 'oblimin', max.iter = 1000)\n",
    "psych::print.psych(test_paf1_oblique, cut = 0.3, sort = TRUE)"
   ]
  }
 ],
 "metadata": {
  "kernelspec": {
   "display_name": "R",
   "language": "R",
   "name": "ir"
  },
  "language_info": {
   "codemirror_mode": "r",
   "file_extension": ".r",
   "mimetype": "text/x-r-source",
   "name": "R",
   "pygments_lexer": "r",
   "version": "4.4.2"
  }
 },
 "nbformat": 4,
 "nbformat_minor": 2
}
