{
 "cells": [
  {
   "cell_type": "markdown",
   "metadata": {},
   "source": [
    "# Textbook Example\n",
    "\n",
    "Following Steps from [https://lhbikos.github.io/ReC_Psychometrics/PAF.html]"
   ]
  },
  {
   "cell_type": "markdown",
   "metadata": {},
   "source": [
    "## Install Packages"
   ]
  },
  {
   "cell_type": "code",
   "execution_count": 2,
   "metadata": {
    "vscode": {
     "languageId": "r"
    }
   },
   "outputs": [
    {
     "name": "stderr",
     "output_type": "stream",
     "text": [
      "Loading required package: psych\n",
      "\n",
      "\n",
      "Attaching package: ‘psych’\n",
      "\n",
      "\n",
      "The following objects are masked from ‘package:ggplot2’:\n",
      "\n",
      "    %+%, alpha\n",
      "\n",
      "\n",
      "Loading required package: sjstats\n",
      "\n",
      "\n",
      "Attaching package: ‘sjstats’\n",
      "\n",
      "\n",
      "The following object is masked from ‘package:psych’:\n",
      "\n",
      "    phi\n",
      "\n",
      "\n",
      "Loading required package: apaTables\n",
      "\n",
      "Loading required package: qualtRics\n",
      "\n"
     ]
    }
   ],
   "source": [
    "if(!require(psych)){install.packages('psych')}\n",
    "if(!require(tidyverse)){install.packages('tidyverse')}\n",
    "if(!require(MASS)){install.packages('MASS')}\n",
    "if(!require(sjstats)){install.packages('sjstats')}\n",
    "if(!require(apaTables)){install.packages('apaTables')}\n",
    "if(!require(qualtRics)){install.packages('qualtRics')}"
   ]
  },
  {
   "cell_type": "markdown",
   "metadata": {},
   "source": [
    "## Input Correlation Matrix\n",
    "\n",
    "Using data from [Confirmatory Factory Analysis for Applied Research](https://books.google.com/books?id=tTL2BQAAQBAJ), Chapter 2"
   ]
  },
  {
   "cell_type": "code",
   "execution_count": 4,
   "metadata": {
    "vscode": {
     "languageId": "r"
    }
   },
   "outputs": [
    {
     "data": {
      "text/html": [
       "<table class=\"dataframe\">\n",
       "<caption>A matrix: 4 × 4 of type dbl</caption>\n",
       "<tbody>\n",
       "\t<tr><td>1.00</td><td>0.70</td><td>0.65</td><td>0.62</td></tr>\n",
       "\t<tr><td>0.70</td><td>1.00</td><td>0.66</td><td>0.63</td></tr>\n",
       "\t<tr><td>0.65</td><td>0.66</td><td>1.00</td><td>0.60</td></tr>\n",
       "\t<tr><td>0.62</td><td>0.63</td><td>0.60</td><td>1.00</td></tr>\n",
       "</tbody>\n",
       "</table>\n"
      ],
      "text/latex": [
       "A matrix: 4 × 4 of type dbl\n",
       "\\begin{tabular}{llll}\n",
       "\t 1.00 & 0.70 & 0.65 & 0.62\\\\\n",
       "\t 0.70 & 1.00 & 0.66 & 0.63\\\\\n",
       "\t 0.65 & 0.66 & 1.00 & 0.60\\\\\n",
       "\t 0.62 & 0.63 & 0.60 & 1.00\\\\\n",
       "\\end{tabular}\n"
      ],
      "text/markdown": [
       "\n",
       "A matrix: 4 × 4 of type dbl\n",
       "\n",
       "| 1.00 | 0.70 | 0.65 | 0.62 |\n",
       "| 0.70 | 1.00 | 0.66 | 0.63 |\n",
       "| 0.65 | 0.66 | 1.00 | 0.60 |\n",
       "| 0.62 | 0.63 | 0.60 | 1.00 |\n",
       "\n"
      ],
      "text/plain": [
       "     [,1] [,2] [,3] [,4]\n",
       "[1,] 1.00 0.70 0.65 0.62\n",
       "[2,] 0.70 1.00 0.66 0.63\n",
       "[3,] 0.65 0.66 1.00 0.60\n",
       "[4,] 0.62 0.63 0.60 1.00"
      ]
     },
     "metadata": {},
     "output_type": "display_data"
    }
   ],
   "source": [
    "cormat = matrix(\n",
    "  c(1, .7, .65, .62,\n",
    "    .7, 1, .66, .63,\n",
    "    .65, .66, 1, .60,\n",
    "    .62, .63, .60, 1),\n",
    "    nrow = 4,\n",
    "    ncol = 4)\n",
    "round(cormat, 2)"
   ]
  },
  {
   "cell_type": "markdown",
   "metadata": {},
   "source": [
    "## Check the Assumptions\n",
    "\n",
    "### Kaiser-Meyer-Olkin"
   ]
  },
  {
   "cell_type": "code",
   "execution_count": 5,
   "metadata": {
    "vscode": {
     "languageId": "r"
    }
   },
   "outputs": [
    {
     "data": {
      "text/plain": [
       "Kaiser-Meyer-Olkin factor adequacy\n",
       "Call: psych::KMO(r = cormat)\n",
       "Overall MSA =  0.84\n",
       "MSA for each item = \n",
       "[1] 0.82 0.81 0.85 0.87"
      ]
     },
     "metadata": {},
     "output_type": "display_data"
    }
   ],
   "source": [
    "psych::KMO(cormat)"
   ]
  },
  {
   "cell_type": "markdown",
   "metadata": {},
   "source": [
    "KMO should be greater than 0.5. ✅"
   ]
  },
  {
   "cell_type": "markdown",
   "metadata": {},
   "source": [
    "### Bartlett's\n",
    "\n",
    "Since we are using the correlation matrix, must include sample size (N = 300 in source data)"
   ]
  },
  {
   "cell_type": "code",
   "execution_count": 6,
   "metadata": {
    "vscode": {
     "languageId": "r"
    }
   },
   "outputs": [
    {
     "data": {
      "text/html": [
       "<dl>\n",
       "\t<dt>$chisq</dt>\n",
       "\t\t<dd>607.22636081722</dd>\n",
       "\t<dt>$p.value</dt>\n",
       "\t\t<dd>6.44084995877944e-128</dd>\n",
       "\t<dt>$df</dt>\n",
       "\t\t<dd>6</dd>\n",
       "</dl>\n"
      ],
      "text/latex": [
       "\\begin{description}\n",
       "\\item[\\$chisq] 607.22636081722\n",
       "\\item[\\$p.value] 6.44084995877944e-128\n",
       "\\item[\\$df] 6\n",
       "\\end{description}\n"
      ],
      "text/markdown": [
       "$chisq\n",
       ":   607.22636081722\n",
       "$p.value\n",
       ":   6.44084995877944e-128\n",
       "$df\n",
       ":   6\n",
       "\n",
       "\n"
      ],
      "text/plain": [
       "$chisq\n",
       "[1] 607.2264\n",
       "\n",
       "$p.value\n",
       "[1] 6.44085e-128\n",
       "\n",
       "$df\n",
       "[1] 6\n"
      ]
     },
     "metadata": {},
     "output_type": "display_data"
    }
   ],
   "source": [
    "psych::cortest.bartlett(cormat, n = 300)"
   ]
  },
  {
   "cell_type": "markdown",
   "metadata": {},
   "source": [
    "`p` value is < 0.001, which is significant ✅"
   ]
  },
  {
   "cell_type": "markdown",
   "metadata": {},
   "source": [
    "### Determinant of Correlation Matrix"
   ]
  },
  {
   "cell_type": "code",
   "execution_count": 7,
   "metadata": {
    "vscode": {
     "languageId": "r"
    }
   },
   "outputs": [
    {
     "data": {
      "text/html": [
       "0.12929209"
      ],
      "text/latex": [
       "0.12929209"
      ],
      "text/markdown": [
       "0.12929209"
      ],
      "text/plain": [
       "[1] 0.1292921"
      ]
     },
     "metadata": {},
     "output_type": "display_data"
    }
   ],
   "source": [
    "det(cormat)"
   ]
  },
  {
   "cell_type": "markdown",
   "metadata": {},
   "source": [
    "Determinant must be greater than 0.00001 ✅"
   ]
  },
  {
   "cell_type": "markdown",
   "metadata": {},
   "source": [
    "## Principal Axis Factoring\n",
    "\n",
    "Run PAF with a number of factors greater than what we think we need, but less than the total number of items."
   ]
  },
  {
   "cell_type": "code",
   "execution_count": 10,
   "metadata": {
    "vscode": {
     "languageId": "r"
    }
   },
   "outputs": [
    {
     "data": {
      "text/plain": [
       "Factor Analysis using method =  pa\n",
       "Call: psych::fa(r = cormat, nfactors = 1, rotate = \"none\", max.iter = 100, \n",
       "    fm = \"pa\")\n",
       "Standardized loadings (pattern matrix) based upon correlation matrix\n",
       "   PA1   h2   u2 com\n",
       "1 0.83 0.68 0.32   1\n",
       "2 0.84 0.71 0.29   1\n",
       "3 0.79 0.62 0.38   1\n",
       "4 0.75 0.57 0.43   1\n",
       "\n",
       "                PA1\n",
       "SS loadings    2.58\n",
       "Proportion Var 0.64\n",
       "\n",
       "Mean item complexity =  1\n",
       "Test of the hypothesis that 1 factor is sufficient.\n",
       "\n",
       "df null model =  6  with the objective function =  2.05\n",
       "df of  the model are 2  and the objective function was  0 \n",
       "\n",
       "The root mean square of the residuals (RMSR) is  0 \n",
       "The df corrected root mean square of the residuals is  0.01 \n",
       "\n",
       "Fit based upon off diagonal values = 1\n",
       "Measures of factor score adequacy             \n",
       "                                                   PA1\n",
       "Correlation of (regression) scores with factors   0.94\n",
       "Multiple R square of scores with factors          0.88\n",
       "Minimum correlation of possible factor scores     0.77"
      ]
     },
     "metadata": {},
     "output_type": "display_data"
    }
   ],
   "source": [
    "paf1 <- psych::fa(cormat, nfactors = 1, fm = 'pa', max.iter = 100, rotate='none')\n",
    "paf1"
   ]
  },
  {
   "cell_type": "markdown",
   "metadata": {},
   "source": [
    "Loadings (PA1) and Communalities match expected output! ✅\n",
    "\n",
    "Eigenvalues are SS loadings.\n",
    "\n",
    "![expected](expected.png)"
   ]
  },
  {
   "cell_type": "markdown",
   "metadata": {},
   "source": [
    "Scree plot of eigenvalues"
   ]
  },
  {
   "cell_type": "code",
   "execution_count": 12,
   "metadata": {
    "vscode": {
     "languageId": "r"
    }
   },
   "outputs": [
    {
     "data": {
      "image/png": "[encoded data removed]",
      "text/plain": [
       "plot without title"
      ]
     },
     "metadata": {
      "image/png": {
       "height": 420,
       "width": 420
      }
     },
     "output_type": "display_data"
    }
   ],
   "source": [
    "# White background\n",
    "par(bg = \"#FFFFFF\")\n",
    "plot(paf1$values, type = \"b\")"
   ]
  },
  {
   "cell_type": "markdown",
   "metadata": {},
   "source": [
    "### Specifying number of factors\n",
    "\n",
    "Repeat above process with desired number of factors based on Scree plot / Eigenvalues > 1. (Cannot do for this small dataset)\n",
    "\n",
    "Examine communalities individually and as an average. Acceptable is > 0.40 to > 0.70 ✅"
   ]
  },
  {
   "cell_type": "code",
   "execution_count": 14,
   "metadata": {
    "vscode": {
     "languageId": "r"
    }
   },
   "outputs": [
    {
     "data": {
      "text/html": [
       "<style>\n",
       ".list-inline {list-style: none; margin:0; padding: 0}\n",
       ".list-inline>li {display: inline-block}\n",
       ".list-inline>li:not(:last-child)::after {content: \"\\00b7\"; padding: 0 .5ex}\n",
       "</style>\n",
       "<ol class=list-inline><li>'residual'</li><li>'dof'</li><li>'ENull'</li><li>'chi'</li><li>'rms'</li><li>'nh'</li><li>'EPVAL'</li><li>'crms'</li><li>'EBIC'</li><li>'ESABIC'</li><li>'fit'</li><li>'fit.off'</li><li>'sd'</li><li>'factors'</li><li>'complexity'</li><li>'n.obs'</li><li>'PVAL'</li><li>'objective'</li><li>'criteria'</li><li>'Call'</li><li>'null.model'</li><li>'null.dof'</li><li>'r.scores'</li><li>'R2'</li><li>'valid'</li><li>'weights'</li><li>'rotation'</li><li>'hyperplane'</li><li>'communality'</li><li>'communalities'</li><li>'uniquenesses'</li><li>'values'</li><li>'e.values'</li><li>'loadings'</li><li>'model'</li><li>'fm'</li><li>'Structure'</li><li>'communality.iterations'</li><li>'method'</li><li>'R2.scores'</li><li>'r'</li><li>'fn'</li><li>'Vaccounted'</li><li>'ECV'</li></ol>\n"
      ],
      "text/latex": [
       "\\begin{enumerate*}\n",
       "\\item 'residual'\n",
       "\\item 'dof'\n",
       "\\item 'ENull'\n",
       "\\item 'chi'\n",
       "\\item 'rms'\n",
       "\\item 'nh'\n",
       "\\item 'EPVAL'\n",
       "\\item 'crms'\n",
       "\\item 'EBIC'\n",
       "\\item 'ESABIC'\n",
       "\\item 'fit'\n",
       "\\item 'fit.off'\n",
       "\\item 'sd'\n",
       "\\item 'factors'\n",
       "\\item 'complexity'\n",
       "\\item 'n.obs'\n",
       "\\item 'PVAL'\n",
       "\\item 'objective'\n",
       "\\item 'criteria'\n",
       "\\item 'Call'\n",
       "\\item 'null.model'\n",
       "\\item 'null.dof'\n",
       "\\item 'r.scores'\n",
       "\\item 'R2'\n",
       "\\item 'valid'\n",
       "\\item 'weights'\n",
       "\\item 'rotation'\n",
       "\\item 'hyperplane'\n",
       "\\item 'communality'\n",
       "\\item 'communalities'\n",
       "\\item 'uniquenesses'\n",
       "\\item 'values'\n",
       "\\item 'e.values'\n",
       "\\item 'loadings'\n",
       "\\item 'model'\n",
       "\\item 'fm'\n",
       "\\item 'Structure'\n",
       "\\item 'communality.iterations'\n",
       "\\item 'method'\n",
       "\\item 'R2.scores'\n",
       "\\item 'r'\n",
       "\\item 'fn'\n",
       "\\item 'Vaccounted'\n",
       "\\item 'ECV'\n",
       "\\end{enumerate*}\n"
      ],
      "text/markdown": [
       "1. 'residual'\n",
       "2. 'dof'\n",
       "3. 'ENull'\n",
       "4. 'chi'\n",
       "5. 'rms'\n",
       "6. 'nh'\n",
       "7. 'EPVAL'\n",
       "8. 'crms'\n",
       "9. 'EBIC'\n",
       "10. 'ESABIC'\n",
       "11. 'fit'\n",
       "12. 'fit.off'\n",
       "13. 'sd'\n",
       "14. 'factors'\n",
       "15. 'complexity'\n",
       "16. 'n.obs'\n",
       "17. 'PVAL'\n",
       "18. 'objective'\n",
       "19. 'criteria'\n",
       "20. 'Call'\n",
       "21. 'null.model'\n",
       "22. 'null.dof'\n",
       "23. 'r.scores'\n",
       "24. 'R2'\n",
       "25. 'valid'\n",
       "26. 'weights'\n",
       "27. 'rotation'\n",
       "28. 'hyperplane'\n",
       "29. 'communality'\n",
       "30. 'communalities'\n",
       "31. 'uniquenesses'\n",
       "32. 'values'\n",
       "33. 'e.values'\n",
       "34. 'loadings'\n",
       "35. 'model'\n",
       "36. 'fm'\n",
       "37. 'Structure'\n",
       "38. 'communality.iterations'\n",
       "39. 'method'\n",
       "40. 'R2.scores'\n",
       "41. 'r'\n",
       "42. 'fn'\n",
       "43. 'Vaccounted'\n",
       "44. 'ECV'\n",
       "\n",
       "\n"
      ],
      "text/plain": [
       " [1] \"residual\"               \"dof\"                    \"ENull\"                 \n",
       " [4] \"chi\"                    \"rms\"                    \"nh\"                    \n",
       " [7] \"EPVAL\"                  \"crms\"                   \"EBIC\"                  \n",
       "[10] \"ESABIC\"                 \"fit\"                    \"fit.off\"               \n",
       "[13] \"sd\"                     \"factors\"                \"complexity\"            \n",
       "[16] \"n.obs\"                  \"PVAL\"                   \"objective\"             \n",
       "[19] \"criteria\"               \"Call\"                   \"null.model\"            \n",
       "[22] \"null.dof\"               \"r.scores\"               \"R2\"                    \n",
       "[25] \"valid\"                  \"weights\"                \"rotation\"              \n",
       "[28] \"hyperplane\"             \"communality\"            \"communalities\"         \n",
       "[31] \"uniquenesses\"           \"values\"                 \"e.values\"              \n",
       "[34] \"loadings\"               \"model\"                  \"fm\"                    \n",
       "[37] \"Structure\"              \"communality.iterations\" \"method\"                \n",
       "[40] \"R2.scores\"              \"r\"                      \"fn\"                    \n",
       "[43] \"Vaccounted\"             \"ECV\"                   "
      ]
     },
     "metadata": {},
     "output_type": "display_data"
    },
    {
     "data": {
      "text/html": [
       "0.644831302285936"
      ],
      "text/latex": [
       "0.644831302285936"
      ],
      "text/markdown": [
       "0.644831302285936"
      ],
      "text/plain": [
       "[1] 0.6448313"
      ]
     },
     "metadata": {},
     "output_type": "display_data"
    }
   ],
   "source": [
    "names(paf1)\n",
    "mean(paf1$communality)"
   ]
  },
  {
   "cell_type": "markdown",
   "metadata": {},
   "source": [
    "We have high communality. Check the reproduced correlation matrix against the original."
   ]
  },
  {
   "cell_type": "code",
   "execution_count": 15,
   "metadata": {
    "vscode": {
     "languageId": "r"
    }
   },
   "outputs": [
    {
     "data": {
      "text/html": [
       "<table class=\"dataframe\">\n",
       "<caption>A matrix: 4 × 4 of type dbl</caption>\n",
       "<tbody>\n",
       "\t<tr><td>0.32</td><td>0.01</td><td>0.00</td><td>0.00</td></tr>\n",
       "\t<tr><td>0.01</td><td>0.29</td><td>0.00</td><td>0.00</td></tr>\n",
       "\t<tr><td>0.00</td><td>0.00</td><td>0.38</td><td>0.01</td></tr>\n",
       "\t<tr><td>0.00</td><td>0.00</td><td>0.01</td><td>0.43</td></tr>\n",
       "</tbody>\n",
       "</table>\n"
      ],
      "text/latex": [
       "A matrix: 4 × 4 of type dbl\n",
       "\\begin{tabular}{llll}\n",
       "\t 0.32 & 0.01 & 0.00 & 0.00\\\\\n",
       "\t 0.01 & 0.29 & 0.00 & 0.00\\\\\n",
       "\t 0.00 & 0.00 & 0.38 & 0.01\\\\\n",
       "\t 0.00 & 0.00 & 0.01 & 0.43\\\\\n",
       "\\end{tabular}\n"
      ],
      "text/markdown": [
       "\n",
       "A matrix: 4 × 4 of type dbl\n",
       "\n",
       "| 0.32 | 0.01 | 0.00 | 0.00 |\n",
       "| 0.01 | 0.29 | 0.00 | 0.00 |\n",
       "| 0.00 | 0.00 | 0.38 | 0.01 |\n",
       "| 0.00 | 0.00 | 0.01 | 0.43 |\n",
       "\n"
      ],
      "text/plain": [
       "     [,1] [,2] [,3] [,4]\n",
       "[1,] 0.32 0.01 0.00 0.00\n",
       "[2,] 0.01 0.29 0.00 0.00\n",
       "[3,] 0.00 0.00 0.38 0.01\n",
       "[4,] 0.00 0.00 0.01 0.43"
      ]
     },
     "metadata": {},
     "output_type": "display_data"
    }
   ],
   "source": [
    "round(psych::factor.residuals(cormat, paf1$loadings), 2)"
   ]
  },
  {
   "cell_type": "markdown",
   "metadata": {},
   "source": [
    "Analyze the residuals by looking at the upper right triangle"
   ]
  },
  {
   "cell_type": "code",
   "execution_count": 16,
   "metadata": {
    "vscode": {
     "languageId": "r"
    }
   },
   "outputs": [
    {
     "data": {
      "text/html": [
       "<table class=\"dataframe\">\n",
       "<caption>A matrix: 6 × 1 of type dbl</caption>\n",
       "<tbody>\n",
       "\t<tr><td> 0.005397743</td></tr>\n",
       "\t<tr><td>-0.002590827</td></tr>\n",
       "\t<tr><td>-0.002635390</td></tr>\n",
       "\t<tr><td>-0.003011983</td></tr>\n",
       "\t<tr><td>-0.002601274</td></tr>\n",
       "\t<tr><td> 0.005660168</td></tr>\n",
       "</tbody>\n",
       "</table>\n"
      ],
      "text/latex": [
       "A matrix: 6 × 1 of type dbl\n",
       "\\begin{tabular}{l}\n",
       "\t  0.005397743\\\\\n",
       "\t -0.002590827\\\\\n",
       "\t -0.002635390\\\\\n",
       "\t -0.003011983\\\\\n",
       "\t -0.002601274\\\\\n",
       "\t  0.005660168\\\\\n",
       "\\end{tabular}\n"
      ],
      "text/markdown": [
       "\n",
       "A matrix: 6 × 1 of type dbl\n",
       "\n",
       "|  0.005397743 |\n",
       "| -0.002590827 |\n",
       "| -0.002635390 |\n",
       "| -0.003011983 |\n",
       "| -0.002601274 |\n",
       "|  0.005660168 |\n",
       "\n"
      ],
      "text/plain": [
       "     [,1]        \n",
       "[1,]  0.005397743\n",
       "[2,] -0.002590827\n",
       "[3,] -0.002635390\n",
       "[4,] -0.003011983\n",
       "[5,] -0.002601274\n",
       "[6,]  0.005660168"
      ]
     },
     "metadata": {},
     "output_type": "display_data"
    }
   ],
   "source": [
    "paf1_residuals <- psych::factor.residuals(cormat, paf1$loadings)\n",
    "paf1_residuals <- as.matrix(paf1_residuals[upper.tri(paf1_residuals)])\n",
    "head(paf1_residuals)"
   ]
  },
  {
   "cell_type": "markdown",
   "metadata": {},
   "source": [
    "Look for the number and percentage of residuals greater than 0.05."
   ]
  },
  {
   "cell_type": "code",
   "execution_count": 17,
   "metadata": {
    "vscode": {
     "languageId": "r"
    }
   },
   "outputs": [
    {
     "data": {
      "text/html": [
       "0"
      ],
      "text/latex": [
       "0"
      ],
      "text/markdown": [
       "0"
      ],
      "text/plain": [
       "[1] 0"
      ]
     },
     "metadata": {},
     "output_type": "display_data"
    },
    {
     "data": {
      "text/html": [
       "0"
      ],
      "text/latex": [
       "0"
      ],
      "text/markdown": [
       "0"
      ],
      "text/plain": [
       "[1] 0"
      ]
     },
     "metadata": {},
     "output_type": "display_data"
    }
   ],
   "source": [
    "large_residuals <- abs(paf1_residuals) > 0.05\n",
    "sum(large_residuals)\n",
    "round(sum(large_residuals) / nrow(paf1_residuals), 3)"
   ]
  },
  {
   "cell_type": "markdown",
   "metadata": {},
   "source": [
    "Recommendation is for this to be below 50% ✅"
   ]
  },
  {
   "cell_type": "markdown",
   "metadata": {},
   "source": [
    "## Factor Rotation\n",
    "\n",
    "Use orthogonal if factors are independent\n",
    "\n",
    "Use oblique if you think factors are related"
   ]
  },
  {
   "cell_type": "code",
   "execution_count": 19,
   "metadata": {
    "vscode": {
     "languageId": "r"
    }
   },
   "outputs": [
    {
     "data": {
      "text/plain": [
       "Factor Analysis using method =  pa\n",
       "Call: psych::fa(r = cormat, nfactors = 1, rotate = \"oblimin\", max.iter = 100, \n",
       "    fm = \"pa\")\n",
       "Standardized loadings (pattern matrix) based upon correlation matrix\n",
       "   PA1   h2   u2 com\n",
       "1 0.83 0.68 0.32   1\n",
       "2 0.84 0.71 0.29   1\n",
       "3 0.79 0.62 0.38   1\n",
       "4 0.75 0.57 0.43   1\n",
       "\n",
       "                PA1\n",
       "SS loadings    2.58\n",
       "Proportion Var 0.64\n",
       "\n",
       "Mean item complexity =  1\n",
       "Test of the hypothesis that 1 factor is sufficient.\n",
       "\n",
       "df null model =  6  with the objective function =  2.05\n",
       "df of  the model are 2  and the objective function was  0 \n",
       "\n",
       "The root mean square of the residuals (RMSR) is  0 \n",
       "The df corrected root mean square of the residuals is  0.01 \n",
       "\n",
       "Fit based upon off diagonal values = 1\n",
       "Measures of factor score adequacy             \n",
       "                                                   PA1\n",
       "Correlation of (regression) scores with factors   0.94\n",
       "Multiple R square of scores with factors          0.88\n",
       "Minimum correlation of possible factor scores     0.77"
      ]
     },
     "metadata": {},
     "output_type": "display_data"
    }
   ],
   "source": [
    "paf1_oblique <- psych::fa(cormat, nfactors = 1, fm = 'pa', max.iter = 100, rotate = \"oblimin\")\n",
    "paf1_oblique"
   ]
  }
 ],
 "metadata": {
  "kernelspec": {
   "display_name": "R",
   "language": "R",
   "name": "ir"
  },
  "language_info": {
   "codemirror_mode": "r",
   "file_extension": ".r",
   "mimetype": "text/x-r-source",
   "name": "R",
   "pygments_lexer": "r",
   "version": "4.4.2"
  }
 },
 "nbformat": 4,
 "nbformat_minor": 2
}
